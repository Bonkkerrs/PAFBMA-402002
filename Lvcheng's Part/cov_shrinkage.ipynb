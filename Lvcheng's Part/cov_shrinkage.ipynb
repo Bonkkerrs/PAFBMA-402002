{
 "cells": [
  {
   "cell_type": "code",
   "execution_count": 1,
   "id": "992a162d",
   "metadata": {
    "ExecuteTime": {
     "end_time": "2023-03-02T07:39:02.485317Z",
     "start_time": "2023-03-02T07:38:32.633721Z"
    },
    "scrolled": true
   },
   "outputs": [
    {
     "name": "stdout",
     "output_type": "stream",
     "text": [
      "Collecting pyportfolioopt\n",
      "  Downloading pyportfolioopt-1.5.4-py3-none-any.whl (61 kB)\n",
      "\u001b[2K     \u001b[90m━━━━━━━━━━━━━━━━━━━━━━━━━━━━━━━━━━━━━━━\u001b[0m \u001b[32m61.9/61.9 KB\u001b[0m \u001b[31m198.9 kB/s\u001b[0m eta \u001b[36m0:00:00\u001b[0m00:01\u001b[0mm\n",
      "\u001b[?25hCollecting numpy<2.0.0,>=1.22.4\n",
      "  Downloading numpy-1.24.2-cp38-cp38-macosx_10_9_x86_64.whl (19.8 MB)\n",
      "\u001b[2K     \u001b[90m━━━━━━━━━━━━━━━━━━━━━━━━━━━━━━━━━━━━━━━━\u001b[0m \u001b[32m19.8/19.8 MB\u001b[0m \u001b[31m1.7 MB/s\u001b[0m eta \u001b[36m0:00:00\u001b[0m00:01\u001b[0m00:01\u001b[0m\n",
      "\u001b[?25hRequirement already satisfied: scipy<2.0,>=1.3 in /Users/david/opt/anaconda3/lib/python3.8/site-packages (from pyportfolioopt) (1.7.3)\n",
      "Requirement already satisfied: cvxpy<2.0.0,>=1.1.10 in /Users/david/opt/anaconda3/lib/python3.8/site-packages (from pyportfolioopt) (1.3.0)\n",
      "Requirement already satisfied: pandas>=0.19 in /Users/david/opt/anaconda3/lib/python3.8/site-packages (from pyportfolioopt) (1.4.2)\n",
      "Requirement already satisfied: scs>=1.1.6 in /Users/david/opt/anaconda3/lib/python3.8/site-packages (from cvxpy<2.0.0,>=1.1.10->pyportfolioopt) (3.2.2)\n",
      "Requirement already satisfied: setuptools<=64.0.2 in /Users/david/opt/anaconda3/lib/python3.8/site-packages (from cvxpy<2.0.0,>=1.1.10->pyportfolioopt) (62.1.0)\n",
      "Requirement already satisfied: ecos>=2 in /Users/david/opt/anaconda3/lib/python3.8/site-packages (from cvxpy<2.0.0,>=1.1.10->pyportfolioopt) (2.0.12)\n",
      "Requirement already satisfied: osqp>=0.4.1 in /Users/david/opt/anaconda3/lib/python3.8/site-packages (from cvxpy<2.0.0,>=1.1.10->pyportfolioopt) (0.6.2.post8)\n",
      "Requirement already satisfied: python-dateutil>=2.8.1 in /Users/david/opt/anaconda3/lib/python3.8/site-packages (from pandas>=0.19->pyportfolioopt) (2.8.2)\n",
      "Requirement already satisfied: pytz>=2020.1 in /Users/david/opt/anaconda3/lib/python3.8/site-packages (from pandas>=0.19->pyportfolioopt) (2022.1)\n",
      "  Downloading numpy-1.22.4-cp38-cp38-macosx_10_15_x86_64.whl (17.6 MB)\n",
      "\u001b[2K     \u001b[90m━━━━━━━━━━━━━━━━━━━━━━━━━━━━━━━━━━━━━━━━\u001b[0m \u001b[32m17.6/17.6 MB\u001b[0m \u001b[31m1.7 MB/s\u001b[0m eta \u001b[36m0:00:00\u001b[0m00:01\u001b[0m00:01\u001b[0m\n",
      "\u001b[?25hRequirement already satisfied: qdldl in /Users/david/opt/anaconda3/lib/python3.8/site-packages (from osqp>=0.4.1->cvxpy<2.0.0,>=1.1.10->pyportfolioopt) (0.1.5.post3)\n",
      "Requirement already satisfied: six>=1.5 in /Users/david/opt/anaconda3/lib/python3.8/site-packages (from python-dateutil>=2.8.1->pandas>=0.19->pyportfolioopt) (1.16.0)\n",
      "Installing collected packages: numpy, pyportfolioopt\n",
      "  Attempting uninstall: numpy\n",
      "    Found existing installation: numpy 1.21.5\n",
      "    Uninstalling numpy-1.21.5:\n",
      "      Successfully uninstalled numpy-1.21.5\n",
      "\u001b[31mERROR: pip's dependency resolver does not currently take into account all the packages that are installed. This behaviour is the source of the following dependency conflicts.\n",
      "numba 0.55.1 requires numpy<1.22,>=1.18, but you have numpy 1.22.4 which is incompatible.\u001b[0m\u001b[31m\n",
      "\u001b[0mSuccessfully installed numpy-1.22.4 pyportfolioopt-1.5.4\n"
     ]
    }
   ],
   "source": [
    "!pip install pyportfolioopt"
   ]
  },
  {
   "cell_type": "code",
   "execution_count": 1,
   "id": "2e0f87fc",
   "metadata": {
    "ExecuteTime": {
     "end_time": "2023-03-03T15:00:40.496143Z",
     "start_time": "2023-03-03T15:00:39.600552Z"
    }
   },
   "outputs": [],
   "source": [
    "import pandas as pd\n",
    "import yfinance as yf\n",
    "import pypfopt"
   ]
  },
  {
   "cell_type": "code",
   "execution_count": 2,
   "id": "9f401995",
   "metadata": {
    "ExecuteTime": {
     "end_time": "2023-03-03T15:01:08.471311Z",
     "start_time": "2023-03-03T15:01:08.462274Z"
    }
   },
   "outputs": [],
   "source": [
    "START = '2019-01-02'\n",
    "END = '2019-05-26'\n",
    "ASSETS = ['AAPL', 'TSLA', 'PFE', 'SHEL', 'EQIX',\n",
    "              'NFLX', 'WMT', 'GS', 'CBT', 'UPS', 'PFE']"
   ]
  },
  {
   "cell_type": "code",
   "execution_count": 3,
   "id": "5eb083f8",
   "metadata": {
    "ExecuteTime": {
     "end_time": "2023-03-03T15:01:11.240160Z",
     "start_time": "2023-03-03T15:01:09.004618Z"
    },
    "scrolled": false
   },
   "outputs": [
    {
     "name": "stdout",
     "output_type": "stream",
     "text": [
      "[*********************100%***********************]  10 of 10 completed\n"
     ]
    },
    {
     "data": {
      "text/html": [
       "<div>\n",
       "<style scoped>\n",
       "    .dataframe tbody tr th:only-of-type {\n",
       "        vertical-align: middle;\n",
       "    }\n",
       "\n",
       "    .dataframe tbody tr th {\n",
       "        vertical-align: top;\n",
       "    }\n",
       "\n",
       "    .dataframe thead th {\n",
       "        text-align: right;\n",
       "    }\n",
       "</style>\n",
       "<table border=\"1\" class=\"dataframe\">\n",
       "  <thead>\n",
       "    <tr style=\"text-align: right;\">\n",
       "      <th></th>\n",
       "      <th>AAPL</th>\n",
       "      <th>CBT</th>\n",
       "      <th>EQIX</th>\n",
       "      <th>GS</th>\n",
       "      <th>NFLX</th>\n",
       "      <th>PFE</th>\n",
       "      <th>SHEL</th>\n",
       "      <th>TSLA</th>\n",
       "      <th>UPS</th>\n",
       "      <th>WMT</th>\n",
       "    </tr>\n",
       "    <tr>\n",
       "      <th>Date</th>\n",
       "      <th></th>\n",
       "      <th></th>\n",
       "      <th></th>\n",
       "      <th></th>\n",
       "      <th></th>\n",
       "      <th></th>\n",
       "      <th></th>\n",
       "      <th></th>\n",
       "      <th></th>\n",
       "      <th></th>\n",
       "    </tr>\n",
       "  </thead>\n",
       "  <tbody>\n",
       "    <tr>\n",
       "      <th>2019-01-02</th>\n",
       "      <td>38.047043</td>\n",
       "      <td>38.645779</td>\n",
       "      <td>326.783722</td>\n",
       "      <td>156.473297</td>\n",
       "      <td>267.660004</td>\n",
       "      <td>35.108089</td>\n",
       "      <td>49.255325</td>\n",
       "      <td>20.674667</td>\n",
       "      <td>85.374222</td>\n",
       "      <td>87.205627</td>\n",
       "    </tr>\n",
       "    <tr>\n",
       "      <th>2019-01-03</th>\n",
       "      <td>34.257286</td>\n",
       "      <td>37.605385</td>\n",
       "      <td>322.993042</td>\n",
       "      <td>154.181183</td>\n",
       "      <td>271.200012</td>\n",
       "      <td>34.125874</td>\n",
       "      <td>49.147415</td>\n",
       "      <td>20.024000</td>\n",
       "      <td>82.950287</td>\n",
       "      <td>86.757141</td>\n",
       "    </tr>\n",
       "    <tr>\n",
       "      <th>2019-01-04</th>\n",
       "      <td>35.719696</td>\n",
       "      <td>39.312695</td>\n",
       "      <td>330.322418</td>\n",
       "      <td>159.220200</td>\n",
       "      <td>297.570007</td>\n",
       "      <td>34.905151</td>\n",
       "      <td>50.259686</td>\n",
       "      <td>21.179333</td>\n",
       "      <td>85.839699</td>\n",
       "      <td>87.299042</td>\n",
       "    </tr>\n",
       "    <tr>\n",
       "      <th>2019-01-07</th>\n",
       "      <td>35.640190</td>\n",
       "      <td>39.623924</td>\n",
       "      <td>330.985260</td>\n",
       "      <td>160.102493</td>\n",
       "      <td>315.339996</td>\n",
       "      <td>35.091854</td>\n",
       "      <td>50.326092</td>\n",
       "      <td>22.330667</td>\n",
       "      <td>85.549881</td>\n",
       "      <td>88.326736</td>\n",
       "    </tr>\n",
       "    <tr>\n",
       "      <th>2019-01-08</th>\n",
       "      <td>36.319607</td>\n",
       "      <td>39.801765</td>\n",
       "      <td>337.857025</td>\n",
       "      <td>159.511261</td>\n",
       "      <td>320.269989</td>\n",
       "      <td>35.254208</td>\n",
       "      <td>50.018967</td>\n",
       "      <td>22.356667</td>\n",
       "      <td>85.558678</td>\n",
       "      <td>88.943344</td>\n",
       "    </tr>\n",
       "    <tr>\n",
       "      <th>...</th>\n",
       "      <td>...</td>\n",
       "      <td>...</td>\n",
       "      <td>...</td>\n",
       "      <td>...</td>\n",
       "      <td>...</td>\n",
       "      <td>...</td>\n",
       "      <td>...</td>\n",
       "      <td>...</td>\n",
       "      <td>...</td>\n",
       "      <td>...</td>\n",
       "    </tr>\n",
       "    <tr>\n",
       "      <th>2019-05-20</th>\n",
       "      <td>44.470940</td>\n",
       "      <td>37.957348</td>\n",
       "      <td>450.858154</td>\n",
       "      <td>180.128036</td>\n",
       "      <td>348.109985</td>\n",
       "      <td>34.357479</td>\n",
       "      <td>55.088058</td>\n",
       "      <td>13.690667</td>\n",
       "      <td>88.119011</td>\n",
       "      <td>95.864914</td>\n",
       "    </tr>\n",
       "    <tr>\n",
       "      <th>2019-05-21</th>\n",
       "      <td>45.323494</td>\n",
       "      <td>39.210949</td>\n",
       "      <td>457.267090</td>\n",
       "      <td>181.835785</td>\n",
       "      <td>354.269989</td>\n",
       "      <td>34.423573</td>\n",
       "      <td>55.122261</td>\n",
       "      <td>13.672000</td>\n",
       "      <td>88.915054</td>\n",
       "      <td>95.487198</td>\n",
       "    </tr>\n",
       "    <tr>\n",
       "      <th>2019-05-22</th>\n",
       "      <td>44.395645</td>\n",
       "      <td>38.252842</td>\n",
       "      <td>466.271790</td>\n",
       "      <td>178.557297</td>\n",
       "      <td>359.730011</td>\n",
       "      <td>34.687920</td>\n",
       "      <td>54.481003</td>\n",
       "      <td>12.848667</td>\n",
       "      <td>87.206696</td>\n",
       "      <td>96.535385</td>\n",
       "    </tr>\n",
       "    <tr>\n",
       "      <th>2019-05-23</th>\n",
       "      <td>43.637829</td>\n",
       "      <td>36.847015</td>\n",
       "      <td>468.414459</td>\n",
       "      <td>175.315262</td>\n",
       "      <td>352.209991</td>\n",
       "      <td>34.630100</td>\n",
       "      <td>53.403702</td>\n",
       "      <td>13.032667</td>\n",
       "      <td>86.017097</td>\n",
       "      <td>96.185974</td>\n",
       "    </tr>\n",
       "    <tr>\n",
       "      <th>2019-05-24</th>\n",
       "      <td>43.470226</td>\n",
       "      <td>36.963413</td>\n",
       "      <td>468.659821</td>\n",
       "      <td>176.255905</td>\n",
       "      <td>354.390015</td>\n",
       "      <td>34.654877</td>\n",
       "      <td>54.121906</td>\n",
       "      <td>12.708667</td>\n",
       "      <td>85.730888</td>\n",
       "      <td>96.950859</td>\n",
       "    </tr>\n",
       "  </tbody>\n",
       "</table>\n",
       "<p>100 rows × 10 columns</p>\n",
       "</div>"
      ],
      "text/plain": [
       "                 AAPL        CBT        EQIX          GS        NFLX  \\\n",
       "Date                                                                   \n",
       "2019-01-02  38.047043  38.645779  326.783722  156.473297  267.660004   \n",
       "2019-01-03  34.257286  37.605385  322.993042  154.181183  271.200012   \n",
       "2019-01-04  35.719696  39.312695  330.322418  159.220200  297.570007   \n",
       "2019-01-07  35.640190  39.623924  330.985260  160.102493  315.339996   \n",
       "2019-01-08  36.319607  39.801765  337.857025  159.511261  320.269989   \n",
       "...               ...        ...         ...         ...         ...   \n",
       "2019-05-20  44.470940  37.957348  450.858154  180.128036  348.109985   \n",
       "2019-05-21  45.323494  39.210949  457.267090  181.835785  354.269989   \n",
       "2019-05-22  44.395645  38.252842  466.271790  178.557297  359.730011   \n",
       "2019-05-23  43.637829  36.847015  468.414459  175.315262  352.209991   \n",
       "2019-05-24  43.470226  36.963413  468.659821  176.255905  354.390015   \n",
       "\n",
       "                  PFE       SHEL       TSLA        UPS        WMT  \n",
       "Date                                                               \n",
       "2019-01-02  35.108089  49.255325  20.674667  85.374222  87.205627  \n",
       "2019-01-03  34.125874  49.147415  20.024000  82.950287  86.757141  \n",
       "2019-01-04  34.905151  50.259686  21.179333  85.839699  87.299042  \n",
       "2019-01-07  35.091854  50.326092  22.330667  85.549881  88.326736  \n",
       "2019-01-08  35.254208  50.018967  22.356667  85.558678  88.943344  \n",
       "...               ...        ...        ...        ...        ...  \n",
       "2019-05-20  34.357479  55.088058  13.690667  88.119011  95.864914  \n",
       "2019-05-21  34.423573  55.122261  13.672000  88.915054  95.487198  \n",
       "2019-05-22  34.687920  54.481003  12.848667  87.206696  96.535385  \n",
       "2019-05-23  34.630100  53.403702  13.032667  86.017097  96.185974  \n",
       "2019-05-24  34.654877  54.121906  12.708667  85.730888  96.950859  \n",
       "\n",
       "[100 rows x 10 columns]"
      ]
     },
     "execution_count": 3,
     "metadata": {},
     "output_type": "execute_result"
    }
   ],
   "source": [
    "prices_df = yf.download(ASSETS, start=START, \n",
    "                        end=END)\n",
    "prices_df['Adj Close']"
   ]
  },
  {
   "cell_type": "code",
   "execution_count": 4,
   "id": "f4e6420c",
   "metadata": {
    "ExecuteTime": {
     "end_time": "2023-03-03T15:01:15.285823Z",
     "start_time": "2023-03-03T15:01:15.281095Z"
    }
   },
   "outputs": [],
   "source": [
    "df = prices_df['Adj Close']"
   ]
  },
  {
   "cell_type": "code",
   "execution_count": 23,
   "id": "ff4bb2cb",
   "metadata": {
    "ExecuteTime": {
     "end_time": "2023-03-03T15:08:35.117233Z",
     "start_time": "2023-03-03T15:08:35.099388Z"
    }
   },
   "outputs": [],
   "source": [
    "from pypfopt.expected_returns import mean_historical_return\n",
    "from pypfopt.risk_models import CovarianceShrinkage\n",
    "\n",
    "mu = mean_historical_return(df)\n",
    "S = CovarianceShrinkage(df).ledoit_wolf() # Adjusted Covariance Matrix"
   ]
  },
  {
   "cell_type": "code",
   "execution_count": 29,
   "id": "db2b6988",
   "metadata": {
    "ExecuteTime": {
     "end_time": "2023-03-03T15:13:57.852601Z",
     "start_time": "2023-03-03T15:13:57.827466Z"
    }
   },
   "outputs": [
    {
     "data": {
      "text/html": [
       "<div>\n",
       "<style scoped>\n",
       "    .dataframe tbody tr th:only-of-type {\n",
       "        vertical-align: middle;\n",
       "    }\n",
       "\n",
       "    .dataframe tbody tr th {\n",
       "        vertical-align: top;\n",
       "    }\n",
       "\n",
       "    .dataframe thead th {\n",
       "        text-align: right;\n",
       "    }\n",
       "</style>\n",
       "<table border=\"1\" class=\"dataframe\">\n",
       "  <thead>\n",
       "    <tr style=\"text-align: right;\">\n",
       "      <th></th>\n",
       "      <th>AAPL</th>\n",
       "      <th>CBT</th>\n",
       "      <th>EQIX</th>\n",
       "      <th>GS</th>\n",
       "      <th>NFLX</th>\n",
       "      <th>PFE</th>\n",
       "      <th>SHEL</th>\n",
       "      <th>TSLA</th>\n",
       "      <th>UPS</th>\n",
       "      <th>WMT</th>\n",
       "    </tr>\n",
       "  </thead>\n",
       "  <tbody>\n",
       "    <tr>\n",
       "      <th>AAPL</th>\n",
       "      <td>0.093922</td>\n",
       "      <td>0.035540</td>\n",
       "      <td>0.011850</td>\n",
       "      <td>0.024702</td>\n",
       "      <td>0.041343</td>\n",
       "      <td>0.014009</td>\n",
       "      <td>0.013681</td>\n",
       "      <td>0.040137</td>\n",
       "      <td>0.022415</td>\n",
       "      <td>-0.000026</td>\n",
       "    </tr>\n",
       "    <tr>\n",
       "      <th>CBT</th>\n",
       "      <td>0.035540</td>\n",
       "      <td>0.113253</td>\n",
       "      <td>0.009725</td>\n",
       "      <td>0.031360</td>\n",
       "      <td>0.031622</td>\n",
       "      <td>0.011957</td>\n",
       "      <td>0.014181</td>\n",
       "      <td>0.023419</td>\n",
       "      <td>0.028054</td>\n",
       "      <td>0.002756</td>\n",
       "    </tr>\n",
       "    <tr>\n",
       "      <th>EQIX</th>\n",
       "      <td>0.011850</td>\n",
       "      <td>0.009725</td>\n",
       "      <td>0.053130</td>\n",
       "      <td>-0.000074</td>\n",
       "      <td>0.019899</td>\n",
       "      <td>0.009290</td>\n",
       "      <td>0.006687</td>\n",
       "      <td>0.021709</td>\n",
       "      <td>0.009255</td>\n",
       "      <td>0.004155</td>\n",
       "    </tr>\n",
       "    <tr>\n",
       "      <th>GS</th>\n",
       "      <td>0.024702</td>\n",
       "      <td>0.031360</td>\n",
       "      <td>-0.000074</td>\n",
       "      <td>0.068874</td>\n",
       "      <td>0.015685</td>\n",
       "      <td>0.000169</td>\n",
       "      <td>0.009332</td>\n",
       "      <td>0.021822</td>\n",
       "      <td>0.013687</td>\n",
       "      <td>0.006163</td>\n",
       "    </tr>\n",
       "    <tr>\n",
       "      <th>NFLX</th>\n",
       "      <td>0.041343</td>\n",
       "      <td>0.031622</td>\n",
       "      <td>0.019899</td>\n",
       "      <td>0.015685</td>\n",
       "      <td>0.125479</td>\n",
       "      <td>0.012135</td>\n",
       "      <td>0.018217</td>\n",
       "      <td>0.059735</td>\n",
       "      <td>0.010641</td>\n",
       "      <td>0.003320</td>\n",
       "    </tr>\n",
       "    <tr>\n",
       "      <th>PFE</th>\n",
       "      <td>0.014009</td>\n",
       "      <td>0.011957</td>\n",
       "      <td>0.009290</td>\n",
       "      <td>0.000169</td>\n",
       "      <td>0.012135</td>\n",
       "      <td>0.045028</td>\n",
       "      <td>0.011081</td>\n",
       "      <td>0.008095</td>\n",
       "      <td>0.009426</td>\n",
       "      <td>0.003426</td>\n",
       "    </tr>\n",
       "    <tr>\n",
       "      <th>SHEL</th>\n",
       "      <td>0.013681</td>\n",
       "      <td>0.014181</td>\n",
       "      <td>0.006687</td>\n",
       "      <td>0.009332</td>\n",
       "      <td>0.018217</td>\n",
       "      <td>0.011081</td>\n",
       "      <td>0.036149</td>\n",
       "      <td>0.012522</td>\n",
       "      <td>0.013541</td>\n",
       "      <td>0.003534</td>\n",
       "    </tr>\n",
       "    <tr>\n",
       "      <th>TSLA</th>\n",
       "      <td>0.040137</td>\n",
       "      <td>0.023419</td>\n",
       "      <td>0.021709</td>\n",
       "      <td>0.021822</td>\n",
       "      <td>0.059735</td>\n",
       "      <td>0.008095</td>\n",
       "      <td>0.012522</td>\n",
       "      <td>0.211536</td>\n",
       "      <td>0.025023</td>\n",
       "      <td>0.002089</td>\n",
       "    </tr>\n",
       "    <tr>\n",
       "      <th>UPS</th>\n",
       "      <td>0.022415</td>\n",
       "      <td>0.028054</td>\n",
       "      <td>0.009255</td>\n",
       "      <td>0.013687</td>\n",
       "      <td>0.010641</td>\n",
       "      <td>0.009426</td>\n",
       "      <td>0.013541</td>\n",
       "      <td>0.025023</td>\n",
       "      <td>0.061109</td>\n",
       "      <td>0.004962</td>\n",
       "    </tr>\n",
       "    <tr>\n",
       "      <th>WMT</th>\n",
       "      <td>-0.000026</td>\n",
       "      <td>0.002756</td>\n",
       "      <td>0.004155</td>\n",
       "      <td>0.006163</td>\n",
       "      <td>0.003320</td>\n",
       "      <td>0.003426</td>\n",
       "      <td>0.003534</td>\n",
       "      <td>0.002089</td>\n",
       "      <td>0.004962</td>\n",
       "      <td>0.030688</td>\n",
       "    </tr>\n",
       "  </tbody>\n",
       "</table>\n",
       "</div>"
      ],
      "text/plain": [
       "          AAPL       CBT      EQIX        GS      NFLX       PFE      SHEL  \\\n",
       "AAPL  0.093922  0.035540  0.011850  0.024702  0.041343  0.014009  0.013681   \n",
       "CBT   0.035540  0.113253  0.009725  0.031360  0.031622  0.011957  0.014181   \n",
       "EQIX  0.011850  0.009725  0.053130 -0.000074  0.019899  0.009290  0.006687   \n",
       "GS    0.024702  0.031360 -0.000074  0.068874  0.015685  0.000169  0.009332   \n",
       "NFLX  0.041343  0.031622  0.019899  0.015685  0.125479  0.012135  0.018217   \n",
       "PFE   0.014009  0.011957  0.009290  0.000169  0.012135  0.045028  0.011081   \n",
       "SHEL  0.013681  0.014181  0.006687  0.009332  0.018217  0.011081  0.036149   \n",
       "TSLA  0.040137  0.023419  0.021709  0.021822  0.059735  0.008095  0.012522   \n",
       "UPS   0.022415  0.028054  0.009255  0.013687  0.010641  0.009426  0.013541   \n",
       "WMT  -0.000026  0.002756  0.004155  0.006163  0.003320  0.003426  0.003534   \n",
       "\n",
       "          TSLA       UPS       WMT  \n",
       "AAPL  0.040137  0.022415 -0.000026  \n",
       "CBT   0.023419  0.028054  0.002756  \n",
       "EQIX  0.021709  0.009255  0.004155  \n",
       "GS    0.021822  0.013687  0.006163  \n",
       "NFLX  0.059735  0.010641  0.003320  \n",
       "PFE   0.008095  0.009426  0.003426  \n",
       "SHEL  0.012522  0.013541  0.003534  \n",
       "TSLA  0.211536  0.025023  0.002089  \n",
       "UPS   0.025023  0.061109  0.004962  \n",
       "WMT   0.002089  0.004962  0.030688  "
      ]
     },
     "execution_count": 29,
     "metadata": {},
     "output_type": "execute_result"
    }
   ],
   "source": [
    "S # the one we use in Portfolio Allocation! "
   ]
  },
  {
   "cell_type": "code",
   "execution_count": 28,
   "id": "fb45785e",
   "metadata": {
    "ExecuteTime": {
     "end_time": "2023-03-03T15:09:06.574501Z",
     "start_time": "2023-03-03T15:09:05.979841Z"
    }
   },
   "outputs": [
    {
     "data": {
      "image/png": "[encoded data removed]",
      "text/plain": [
       "<Figure size 1280x960 with 2 Axes>"
      ]
     },
     "metadata": {},
     "output_type": "display_data"
    }
   ],
   "source": [
    "import seaborn as sns\n",
    "import matplotlib.pyplot as plt\n",
    "plt.figure(dpi=200)\n",
    "sns.heatmap(S)\n",
    "plt.tight_layout()"
   ]
  },
  {
   "cell_type": "code",
   "execution_count": 24,
   "id": "562f996d",
   "metadata": {
    "ExecuteTime": {
     "end_time": "2023-03-03T15:08:35.568411Z",
     "start_time": "2023-03-03T15:08:35.401335Z"
    }
   },
   "outputs": [
    {
     "data": {
      "text/plain": [
       "<AxesSubplot:>"
      ]
     },
     "execution_count": 24,
     "metadata": {},
     "output_type": "execute_result"
    },
    {
     "data": {
      "image/png": "[encoded data removed]",
      "text/plain": [
       "<Figure size 640x480 with 2 Axes>"
      ]
     },
     "metadata": {},
     "output_type": "display_data"
    }
   ],
   "source": [
    "sns.heatmap(pypfopt.risk_models.sample_cov(df)) # Simple Covariance"
   ]
  },
  {
   "cell_type": "code",
   "execution_count": null,
   "id": "e98d6757",
   "metadata": {},
   "outputs": [],
   "source": []
  }
 ],
 "metadata": {
  "kernelspec": {
   "display_name": "Python 3 (ipykernel)",
   "language": "python",
   "name": "python3"
  },
  "language_info": {
   "codemirror_mode": {
    "name": "ipython",
    "version": 3
   },
   "file_extension": ".py",
   "mimetype": "text/x-python",
   "name": "python",
   "nbconvert_exporter": "python",
   "pygments_lexer": "ipython3",
   "version": "3.9.13"
  },
  "latex_envs": {
   "LaTeX_envs_menu_present": true,
   "autoclose": false,
   "autocomplete": true,
   "bibliofile": "biblio.bib",
   "cite_by": "apalike",
   "current_citInitial": 1,
   "eqLabelWithNumbers": true,
   "eqNumInitial": 1,
   "hotkeys": {
    "equation": "Ctrl-E",
    "itemize": "Ctrl-I"
   },
   "labels_anchors": false,
   "latex_user_defs": false,
   "report_style_numbering": false,
   "user_envs_cfg": false
  },
  "toc": {
   "base_numbering": 1,
   "nav_menu": {},
   "number_sections": true,
   "sideBar": true,
   "skip_h1_title": false,
   "title_cell": "Table of Contents",
   "title_sidebar": "Contents",
   "toc_cell": false,
   "toc_position": {},
   "toc_section_display": true,
   "toc_window_display": false
  },
  "varInspector": {
   "cols": {
    "lenName": 16,
    "lenType": 16,
    "lenVar": 40
   },
   "kernels_config": {
    "python": {
     "delete_cmd_postfix": "",
     "delete_cmd_prefix": "del ",
     "library": "var_list.py",
     "varRefreshCmd": "print(var_dic_list())"
    },
    "r": {
     "delete_cmd_postfix": ") ",
     "delete_cmd_prefix": "rm(",
     "library": "var_list.r",
     "varRefreshCmd": "cat(var_dic_list()) "
    }
   },
   "types_to_exclude": [
    "module",
    "function",
    "builtin_function_or_method",
    "instance",
    "_Feature"
   ],
   "window_display": false
  }
 },
 "nbformat": 4,
 "nbformat_minor": 5
}
